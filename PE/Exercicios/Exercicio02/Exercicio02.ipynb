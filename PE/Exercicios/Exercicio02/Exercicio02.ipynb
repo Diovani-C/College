{
 "cells": [
  {
   "cell_type": "code",
   "execution_count": 33,
   "metadata": {},
   "outputs": [],
   "source": [
    "import pandas as pd\n",
    "import numpy as np\n",
    "import matplotlib.pyplot as plt\n",
    "import xlrd\n",
    "\n",
    "tabela = pd.read_excel(r'./Dados_EB.xls', sheet_name=\"Tabela 2.1\")\n",
    "\n",
    "# Com base nos dados organizar uma tabela e um grafico para o salario e para o grau de instrução, separadamente.\n",
    "\n",
    "coluna_grau_instrucao = pd.DataFrame(tabela, columns=['Unnamed: 2']).to_numpy()\n",
    "coluna_salario = pd.DataFrame(tabela, columns=['Unnamed: 4']).to_numpy()\n",
    "\n"
   ]
  },
  {
   "cell_type": "code",
   "execution_count": 34,
   "metadata": {},
   "outputs": [
    {
     "name": "stdout",
     "output_type": "stream",
     "text": [
      "Ensino fundamental: 12\n",
      "Ensino médio: 18\n",
      "Superior: 6\n"
     ]
    },
    {
     "data": {
      "image/png": "[encoded data removed]",
      "text/plain": [
       "<Figure size 144x144 with 1 Axes>"
      ]
     },
     "metadata": {
      "needs_background": "light"
     },
     "output_type": "display_data"
    }
   ],
   "source": [
    "ensino_fundamental = 0\n",
    "ensino_medio = 0\n",
    "superior = 0\n",
    "\n",
    "for linha in coluna_grau_instrucao:\n",
    "  if linha[0] == 'ensino fundamental':\n",
    "    ensino_fundamental += 1\n",
    "  elif linha[0] == 'ensino médio':\n",
    "    ensino_medio += 1\n",
    "  elif linha[0] == 'superior':\n",
    "    superior += 1\n",
    "\n",
    "total = ensino_fundamental + ensino_medio + superior\n",
    "\n",
    "print(f'Ensino fundamental: {ensino_fundamental}')\n",
    "print(f'Ensino médio: {ensino_medio}')\n",
    "print(f'Superior: {superior}')\n",
    "\n",
    "x = ['Fundamental', 'Médio', 'Superior']\n",
    "y = [ensino_fundamental, ensino_medio, superior]\n",
    "\n",
    "fig, ax = plt.subplots()\n",
    "\n",
    "ax.bar(x, y)\n",
    "\n",
    "plt.show()"
   ]
  },
  {
   "cell_type": "code",
   "execution_count": null,
   "metadata": {},
   "outputs": [],
   "source": []
  }
 ],
 "metadata": {
  "interpreter": {
   "hash": "fe7df555acae21215e9d43867a80c591ce6a04db59d590cb96386628cabcf778"
  },
  "kernelspec": {
   "display_name": "Python 3.10.0 ('data-science')",
   "language": "python",
   "name": "python3"
  },
  "language_info": {
   "codemirror_mode": {
    "name": "ipython",
    "version": 3
   },
   "file_extension": ".py",
   "mimetype": "text/x-python",
   "name": "python",
   "nbconvert_exporter": "python",
   "pygments_lexer": "ipython3",
   "version": "3.10.0"
  },
  "orig_nbformat": 4
 },
 "nbformat": 4,
 "nbformat_minor": 2
}
