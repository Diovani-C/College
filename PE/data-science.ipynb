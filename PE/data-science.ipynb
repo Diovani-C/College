{
 "cells": [
  {
   "cell_type": "code",
   "execution_count": 1,
   "metadata": {},
   "outputs": [
    {
     "name": "stdout",
     "output_type": "stream",
     "text": [
      "8.7\n"
     ]
    }
   ],
   "source": [
    "import math\n",
    "import statistics\n",
    "import numpy as np\n",
    "import scipy.stats\n",
    "import pandas as pd\n",
    "\n",
    "x = [8.0, 1, 2.5, 4, 28.0]\n",
    "x_with_nan = [8.0, 1, 2.5, math.nan, 4, 28.0]\n",
    "\n",
    "y, y_with_nan = np.array(x), np.array(x_with_nan)\n",
    "z, z_with_nan = pd.Series(x), pd.Series(x_with_nan)\n",
    "\n",
    "mean_ = y.mean()\n",
    "\n",
    "print(mean_)\n"
   ]
  },
  {
   "cell_type": "code",
   "execution_count": 2,
   "metadata": {},
   "outputs": [
    {
     "name": "stdout",
     "output_type": "stream",
     "text": [
      "0.4057971014492753\n"
     ]
    }
   ],
   "source": [
    "# Find the change of a defected gear coming from the machine b\n",
    "# Machine output porcentage\n",
    "machine_out_a = 0.25\n",
    "machine_out_b = 0.35\n",
    "machine_out_c = 0.40\n",
    "# Machine defect percentage\n",
    "defect_a = 0.05\n",
    "defect_b = 0.04\n",
    "defect_c = 0.02\n",
    "# Total defect percentage\n",
    "total_defect_percentage = (machine_out_a * defect_a) + (machine_out_b * defect_b) + (machine_out_c * defect_c)\n",
    "# Result\n",
    "chance_defect_gear_from_b = (machine_out_b * defect_b) / (total_defect_percentage)\n",
    "print(chance_defect_gear_from_b)\n"
   ]
  }
 ],
 "metadata": {
  "interpreter": {
   "hash": "fe7df555acae21215e9d43867a80c591ce6a04db59d590cb96386628cabcf778"
  },
  "kernelspec": {
   "display_name": "Python 3.10.0 ('data-science')",
   "language": "python",
   "name": "python3"
  },
  "language_info": {
   "codemirror_mode": {
    "name": "ipython",
    "version": 3
   },
   "file_extension": ".py",
   "mimetype": "text/x-python",
   "name": "python",
   "nbconvert_exporter": "python",
   "pygments_lexer": "ipython3",
   "version": "3.10.0"
  },
  "orig_nbformat": 4
 },
 "nbformat": 4,
 "nbformat_minor": 2
}
