{
 "cells": [
  {
   "cell_type": "code",
   "execution_count": 89,
   "metadata": {},
   "outputs": [
    {
     "name": "stdout",
     "output_type": "stream",
     "text": [
      "A probabilidade de um circuito ser defeituoso na fabrica é de 2.5%\n",
      "A probabilidade do circuito defeituoso vir da maquina I é de 16.0%\n"
     ]
    }
   ],
   "source": [
    "# 23. Uma companhia produz circuitos em três fábricas, I, II e III. A fábrica I produz 40% dos circuitos, enquanto a II e a III produzem 30% cada uma. As probabilidades de que um circuito integrado produzido por essas fábricas não funcione são 0,01, 0,04 e 0,03, respectivamente. Escolhido um circuito da produção conjunta das três fábricas, qual a probabilidade de o mesmo não funcionar?\n",
    "\n",
    "I_producao = 0.4\n",
    "II_producao = 0.3\n",
    "III_producao = 0.3\n",
    "\n",
    "I_defeito = 0.01\n",
    "II_defeito = 0.04\n",
    "III_defeito = 0.03\n",
    "\n",
    "taxa_defeito_total = (I_producao * I_defeito) + (II_producao * II_defeito) + (III_producao * III_defeito)\n",
    "\n",
    "print(f\"A probabilidade de um circuito ser defeituoso na fabrica é de {taxa_defeito_total * 100}%\")\n",
    "\n",
    "# 24. Considere a situação do problema anterior, mas suponha agora que um circuito escolhido ao acaso seja defeituoso. Determine qual a probabilidade de ele ter sido fabricado por I.\n",
    "\n",
    "circuito_defeituoso_fabricado_I = (I_producao * I_defeito) / taxa_defeito_total\n",
    "\n",
    "print(f\"A probabilidade do circuito defeituoso vir da maquina I é de {circuito_defeituoso_fabricado_I * 100}%\")\n"
   ]
  }
 ],
 "metadata": {
  "interpreter": {
   "hash": "fe7df555acae21215e9d43867a80c591ce6a04db59d590cb96386628cabcf778"
  },
  "kernelspec": {
   "display_name": "Python 3.10.0 ('data-science')",
   "language": "python",
   "name": "python3"
  },
  "language_info": {
   "codemirror_mode": {
    "name": "ipython",
    "version": 3
   },
   "file_extension": ".py",
   "mimetype": "text/x-python",
   "name": "python",
   "nbconvert_exporter": "python",
   "pygments_lexer": "ipython3",
   "version": "3.10.0"
  },
  "orig_nbformat": 4
 },
 "nbformat": 4,
 "nbformat_minor": 2
}
